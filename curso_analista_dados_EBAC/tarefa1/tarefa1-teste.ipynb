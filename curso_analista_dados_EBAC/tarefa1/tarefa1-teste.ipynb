{
 "cells": [
  {
   "cell_type": "code",
   "execution_count": 1,
   "metadata": {},
   "outputs": [],
   "source": [
    "import requests\n",
    "import pandas as pd\n",
    "import os\n",
    "from datetime import datetime\n",
    "import time\n",
    "import seaborn as sns\n",
    "import matplotlib.pyplot as plt\n",
    "import sys"
   ]
  },
  {
   "cell_type": "code",
   "execution_count": 2,
   "metadata": {},
   "outputs": [],
   "source": [
    "# Função para extrair a taxa CDI do site do Banco Central\n",
    "def extrair_taxa_cdi():\n",
    "    url = \"https://api.bcb.gov.br/dados/serie/bcdata.sgs.12/dados?formato=json\"\n",
    "    try:\n",
    "        response = requests.get(url, timeout=10)  # Faz uma requisição HTTP GET ao URL com um timeout de 10 segundos\n",
    "        response.raise_for_status()  # Levanta uma exceção para códigos de status HTTP ruins\n",
    "        data = response.json()  # Faz o parsing do conteúdo JSON\n",
    "        taxa_cdi = data[-1]['valor']  # Extrai a última taxa CDI disponível\n",
    "        return taxa_cdi  # Retorna a taxa CDI extraída\n",
    "    except requests.exceptions.RequestException as e:\n",
    "        print(f\"Erro ao acessar a URL: {e}\")\n",
    "        return None"
   ]
  },
  {
   "cell_type": "code",
   "execution_count": 3,
   "metadata": {},
   "outputs": [],
   "source": [
    "# Função para salvar a taxa CDI em um arquivo CSV\n",
    "\n",
    "def salvar_taxa_cdi(taxa):\n",
    "    data_hora = datetime.now().strftime('%Y-%m-%d %H:%M:%S')  # Obtém a data e hora atuais formatadas\n",
    "    file_exists = os.path.isfile('taxa-cdi.csv')  # Verifica se o arquivo CSV já existe\n",
    "    \n",
    "    if file_exists:\n",
    "        df = pd.read_csv(\"taxa-cdi.csv\")  # Lê o arquivo CSV existente\n",
    "    else:\n",
    "        df = pd.DataFrame(columns=['data_hora', 'taxa'])  # Cria um DataFrame vazio com colunas específicas\n",
    "    \n",
    "    # Adiciona uma nova linha ao DataFrame com a data/hora e a taxa\n",
    "    new_row = pd.DataFrame({'data_hora': [data_hora], 'taxa': [taxa]})\n",
    "    df = pd.concat([df, new_row], ignore_index=True)\n",
    "    \n",
    "    df.to_csv('taxa-cdi.csv', index=False)  # Salva o DataFrame no arquivo CSV\n"
   ]
  },
  {
   "cell_type": "code",
   "execution_count": 4,
   "metadata": {},
   "outputs": [],
   "source": [
    "if __name__ == \"__main__\":\n",
    "    for _ in range(10):\n",
    "        taxa_cdi = extrair_taxa_cdi()  # Extrai a taxa CDI\n",
    "        if taxa_cdi is not None:\n",
    "            salvar_taxa_cdi(taxa_cdi)  # Salva a taxa CDI no arquivo CSV\n",
    "        time.sleep(1)  # Espera 1 segundo entre as execuções\n"
   ]
  },
  {
   "cell_type": "code",
   "execution_count": 5,
   "metadata": {},
   "outputs": [
    {
     "data": {
      "text/html": [
       "<div>\n",
       "<style scoped>\n",
       "    .dataframe tbody tr th:only-of-type {\n",
       "        vertical-align: middle;\n",
       "    }\n",
       "\n",
       "    .dataframe tbody tr th {\n",
       "        vertical-align: top;\n",
       "    }\n",
       "\n",
       "    .dataframe thead th {\n",
       "        text-align: right;\n",
       "    }\n",
       "</style>\n",
       "<table border=\"1\" class=\"dataframe\">\n",
       "  <thead>\n",
       "    <tr style=\"text-align: right;\">\n",
       "      <th></th>\n",
       "      <th>data_hora</th>\n",
       "      <th>taxa</th>\n",
       "    </tr>\n",
       "  </thead>\n",
       "  <tbody>\n",
       "    <tr>\n",
       "      <th>0</th>\n",
       "      <td>2024-06-26 16:22:03</td>\n",
       "      <td>0.03927</td>\n",
       "    </tr>\n",
       "    <tr>\n",
       "      <th>1</th>\n",
       "      <td>2024-06-26 16:22:05</td>\n",
       "      <td>0.03927</td>\n",
       "    </tr>\n",
       "    <tr>\n",
       "      <th>2</th>\n",
       "      <td>2024-06-26 16:22:06</td>\n",
       "      <td>0.03927</td>\n",
       "    </tr>\n",
       "    <tr>\n",
       "      <th>3</th>\n",
       "      <td>2024-06-26 16:22:08</td>\n",
       "      <td>0.03927</td>\n",
       "    </tr>\n",
       "    <tr>\n",
       "      <th>4</th>\n",
       "      <td>2024-06-26 16:22:09</td>\n",
       "      <td>0.03927</td>\n",
       "    </tr>\n",
       "    <tr>\n",
       "      <th>5</th>\n",
       "      <td>2024-06-26 16:22:11</td>\n",
       "      <td>0.03927</td>\n",
       "    </tr>\n",
       "    <tr>\n",
       "      <th>6</th>\n",
       "      <td>2024-06-26 16:22:12</td>\n",
       "      <td>0.03927</td>\n",
       "    </tr>\n",
       "    <tr>\n",
       "      <th>7</th>\n",
       "      <td>2024-06-26 16:22:14</td>\n",
       "      <td>0.03927</td>\n",
       "    </tr>\n",
       "    <tr>\n",
       "      <th>8</th>\n",
       "      <td>2024-06-26 16:22:15</td>\n",
       "      <td>0.03927</td>\n",
       "    </tr>\n",
       "    <tr>\n",
       "      <th>9</th>\n",
       "      <td>2024-06-26 16:22:17</td>\n",
       "      <td>0.03927</td>\n",
       "    </tr>\n",
       "  </tbody>\n",
       "</table>\n",
       "</div>"
      ],
      "text/plain": [
       "             data_hora     taxa\n",
       "0  2024-06-26 16:22:03  0.03927\n",
       "1  2024-06-26 16:22:05  0.03927\n",
       "2  2024-06-26 16:22:06  0.03927\n",
       "3  2024-06-26 16:22:08  0.03927\n",
       "4  2024-06-26 16:22:09  0.03927\n",
       "5  2024-06-26 16:22:11  0.03927\n",
       "6  2024-06-26 16:22:12  0.03927\n",
       "7  2024-06-26 16:22:14  0.03927\n",
       "8  2024-06-26 16:22:15  0.03927\n",
       "9  2024-06-26 16:22:17  0.03927"
      ]
     },
     "metadata": {},
     "output_type": "display_data"
    }
   ],
   "source": [
    "df = pd.read_csv('taxa-cdi.csv')\n",
    "display(df)"
   ]
  },
  {
   "cell_type": "code",
   "execution_count": 6,
   "metadata": {},
   "outputs": [
    {
     "data": {
      "text/plain": [
       "data_hora     object\n",
       "taxa         float64\n",
       "dtype: object"
      ]
     },
     "execution_count": 6,
     "metadata": {},
     "output_type": "execute_result"
    }
   ],
   "source": [
    "df.head(n=10)\n",
    "df.dtypes"
   ]
  },
  {
   "cell_type": "code",
   "execution_count": 7,
   "metadata": {},
   "outputs": [
    {
     "data": {
      "image/png": "[encoded data removed]",
      "text/plain": [
       "<Figure size 640x480 with 1 Axes>"
      ]
     },
     "metadata": {},
     "output_type": "display_data"
    }
   ],
   "source": [
    "plot_df = sns.lineplot(x='data_hora', y='taxa', data=df, marker='o') \n",
    "plot_df.tick_params(axis='x', labelrotation=45)\n"
   ]
  },
  {
   "cell_type": "code",
   "execution_count": 8,
   "metadata": {},
   "outputs": [
    {
     "name": "stdout",
     "output_type": "stream",
     "text": [
      "<class 'matplotlib.axes._axes.Axes'>\n"
     ]
    }
   ],
   "source": [
    "print(type(plot_df))"
   ]
  },
  {
   "cell_type": "code",
   "execution_count": 9,
   "metadata": {},
   "outputs": [],
   "source": [
    "plot_df.figure.savefig('grafico.jpg')"
   ]
  }
 ],
 "metadata": {
  "kernelspec": {
   "display_name": "Python 3",
   "language": "python",
   "name": "python3"
  },
  "language_info": {
   "codemirror_mode": {
    "name": "ipython",
    "version": 3
   },
   "file_extension": ".py",
   "mimetype": "text/x-python",
   "name": "python",
   "nbconvert_exporter": "python",
   "pygments_lexer": "ipython3",
   "version": "3.12.2"
  }
 },
 "nbformat": 4,
 "nbformat_minor": 2
}

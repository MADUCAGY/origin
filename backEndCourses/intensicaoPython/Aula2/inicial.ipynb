{
 "cells": [
  {
   "cell_type": "markdown",
   "metadata": {},
   "source": [
    "# Python Insights - Analisando Dados com Python\n",
    "\n",
    "### Case - Cancelamento de Clientes\n",
    "\n",
    "Você foi contratado por uma empresa com mais de 800 mil clientes para um projeto de Dados. Recentemente a empresa percebeu que da sua base total de clientes, a maioria são clientes inativos, ou seja, que já cancelaram o serviço.\n",
    "\n",
    "Precisando melhorar seus resultados ela quer conseguir entender os principais motivos desses cancelamentos e quais as ações mais eficientes para reduzir esse número.\n",
    "\n",
    "Base de dados e arquivos: https://drive.google.com/drive/folders/1uDesZePdkhiraJmiyeZ-w5tfc8XsNYFZ?usp=drive_link"
   ]
  },
  {
   "cell_type": "code",
   "execution_count": null,
   "metadata": {},
   "outputs": [],
   "source": [
    "#instalar: python3 -m pip install plotly openpyxl numpy nbformat ipykernel\n",
    "#imports:\n",
    "import pandas as pd\n",
    "\n",
    "#Passo a passo do projeto\n",
    "#1 Importar a base de dados\n",
    "tabela = pd.read_csv(\"/Users/maducagy/Desktop/Projetos/backEndProjects/intensicaoPython/Aula2/cancelamentos.csv\") \n",
    "#2 Visualizar a base de dados\n",
    "    #Entender quais infos vc tem disponível\n",
    "    #Identificar as cagadas da base de dados\n",
    "        #1. O ID dos clientes nao importa:\n",
    "tabela = tabela.drop(columns=\"CustomerID\")\n",
    "\n",
    "#3 Tratamento de Dados:\n",
    "    #Corrigir as cagadas da base de dados\n",
    "    #Valores vazios e formato das infos na base de dados\n",
    "\n",
    "#Retirar valores vazios da base de dados:\n",
    "tabela = tabela.dropna()\n",
    "#display(tabela.info())\n",
    "#4 Analisar o cancelamento dos clientes \n",
    "#Contar os valores da coluna \"Cancelou\"\n",
    "display(tabela[\"cancelou\"].value_counts())\n",
    "#colocar em porcentagem\n",
    "display(tabela[\"cancelou\"].value_counts(normalize=True)) \n",
    "\n",
    "#5 Causa de cancelamento dos clientes (como as infos do cliente impactam no cancelamento)\n",
    "#Criar um grafico em python:\n",
    "#1 importar a biblioteca de graficos (plotly)\n",
    "import plotly.express as px\n",
    "#2 criar o grafico \n",
    "for coluna in tabela.columns:\n",
    "    grafico = px.histogram(tabela,x=coluna,color=\"cancelou\")\n",
    "#3 exibir o grafico\n",
    "    grafico.show()\n",
    "\n",
    "#6 interpretacoes:\n",
    "    #1 clientes do contrato mensal, sempre cancelam:\n",
    "    #2 se o cliente ligar mais de 4 vezes, ele vai cancelar\n",
    "    #3 se o cliente atrasar mais de 20 dias, ele cancela\n",
    "#7 criar filtros na tabela \n",
    "    tabela = tabela[tabela[\"duracao_contrato\"]!=\"Monthly\"]\n",
    "    display(tabela[\"cancelou\"].value_counts(normalize=True))\n",
    "\n"
   ]
  },
  {
   "cell_type": "markdown",
   "metadata": {},
   "source": []
  }
 ],
 "metadata": {
  "kernelspec": {
   "display_name": "base",
   "language": "python",
   "name": "python3"
  },
  "language_info": {
   "codemirror_mode": {
    "name": "ipython",
    "version": 3
   },
   "file_extension": ".py",
   "mimetype": "text/x-python",
   "name": "python",
   "nbconvert_exporter": "python",
   "pygments_lexer": "ipython3",
   "version": "3.12.2"
  },
  "orig_nbformat": 4
 },
 "nbformat": 4,
 "nbformat_minor": 2
}
